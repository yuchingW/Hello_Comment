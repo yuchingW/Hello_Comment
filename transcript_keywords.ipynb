{
 "cells": [
  {
   "cell_type": "markdown",
   "id": "95b1558d",
   "metadata": {},
   "source": [
    "# Load transcript"
   ]
  },
  {
   "cell_type": "code",
   "execution_count": null,
   "id": "4b40497f",
   "metadata": {},
   "outputs": [],
   "source": [
    "# remove time tag\n",
    "import re\n",
    "\n",
    "time_pattern = \n"
   ]
  }
 ],
 "metadata": {
  "language_info": {
   "name": "python"
  }
 },
 "nbformat": 4,
 "nbformat_minor": 5
}
