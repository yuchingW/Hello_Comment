{
 "cells": [
  {
   "cell_type": "code",
   "execution_count": null,
   "id": "ca7f5b24",
   "metadata": {},
   "outputs": [],
   "source": [
    "# Make sure you have the latest version of the SDK available to use the Batch API\n",
    "# %pip install openai --upgrade"
   ]
  },
  {
   "cell_type": "code",
   "execution_count": 1,
   "id": "8ad47e28",
   "metadata": {},
   "outputs": [],
   "source": [
    "import json\n",
    "from openai import OpenAI\n",
    "import pandas as pd\n",
    "from IPython.display import Image, display\n",
    "from dotenv import load_dotenv"
   ]
  },
  {
   "cell_type": "code",
   "execution_count": 2,
   "id": "d3ba5e37",
   "metadata": {},
   "outputs": [
    {
     "data": {
      "text/plain": [
       "True"
      ]
     },
     "execution_count": 2,
     "metadata": {},
     "output_type": "execute_result"
    }
   ],
   "source": [
    "# load openai API key from .env\n",
    "load_dotenv()"
   ]
  },
  {
   "cell_type": "code",
   "execution_count": 3,
   "id": "2aaed77a",
   "metadata": {},
   "outputs": [],
   "source": [
    "# Initializing OpenAI client - see https://platform.openai.com/docs/quickstart?context=python\n",
    "client = OpenAI()"
   ]
  },
  {
   "cell_type": "markdown",
   "id": "4ce29d2a",
   "metadata": {},
   "source": [
    "# Prepare the data for the batch API"
   ]
  },
  {
   "cell_type": "code",
   "execution_count": 91,
   "id": "4e3568d3",
   "metadata": {},
   "outputs": [
    {
     "name": "stdout",
     "output_type": "stream",
     "text": [
      "跳過 video_30\n",
      "跳過 video_31\n",
      "跳過 video_32\n"
     ]
    }
   ],
   "source": [
    "# 合併所有的cleaned_text和video_title，準備作為批次上傳的data\n",
    "\"\"\"\n",
    "要分成三批\n",
    "1. v0-v15 跳過10, 11, 12, 16, 17\n",
    "2. v18-v35 跳過v30, 31, 32\n",
    "3. v30-31\n",
    "\"\"\"\n",
    "\n",
    "all_comments = []\n",
    "\n",
    "for i in range(18, 36):\n",
    "    # if i in [10, 11, 12, 16, 17]:\n",
    "    #     print(f\"跳過 video_{i}\")\n",
    "    #     continue\n",
    "\n",
    "    if i in [30, 31, 32]:\n",
    "        print(f\"跳過 video_{i}\")\n",
    "        continue\n",
    "    \n",
    "    file_path = f\"for_gpt_tag/video_{i}_filtered_spam.csv\"\n",
    "    # file_path = f\"spam_tag/comments_spam_tag.csv\"\n",
    "    df = pd.read_csv(file_path, encoding='utf-8-sig')\n",
    "\n",
    "    for index, row in df.iterrows():\n",
    "        # print(f\"Processing row {index + 1} of {len(df)}\")\n",
    "        video_title = row['video_title']\n",
    "        cleaned_text = row['cleaned_text']\n",
    "        all_comments.append({\n",
    "            \"video_title\": video_title,\n",
    "            \"comment\": cleaned_text\n",
    "        })\n",
    "\n",
    "# Save the combined data to a JSON file\n",
    "with open('for_gpt_tag/ver2_comments_for_tag.json', 'w', encoding='utf-8') as f:\n",
    "    json.dump(all_comments, f, ensure_ascii=False, indent=4)"
   ]
  },
  {
   "cell_type": "code",
   "execution_count": 92,
   "id": "bd5cf640",
   "metadata": {},
   "outputs": [
    {
     "name": "stdout",
     "output_type": "stream",
     "text": [
      "Total comments processed: 44249\n"
     ]
    }
   ],
   "source": [
    "# check length of all_comments\n",
    "print(f\"Total comments processed: {len(all_comments)}\")"
   ]
  },
  {
   "cell_type": "markdown",
   "id": "afdb7893",
   "metadata": {},
   "source": [
    "## 從instruction2之後只要讀檔\n",
    "\n",
    "1. for_gpt_tag/ver1_comments_for_tag.json\n",
    "2. for_gpt_tag/ver2_comments_for_tag.json\n",
    "3. for_gpt_tag/ver3_comments_for_tag.json"
   ]
  },
  {
   "cell_type": "code",
   "execution_count": 4,
   "id": "50be9b9a",
   "metadata": {},
   "outputs": [
    {
     "name": "stdout",
     "output_type": "stream",
     "text": [
      "46696\n"
     ]
    }
   ],
   "source": [
    "i = 3\n",
    "with open(f'for_gpt_tag/ver{i}_comments_for_tag.json', 'r', encoding='utf-8') as f:\n",
    "    all_comments = json.load(f)\n",
    "\n",
    "print(len(all_comments))"
   ]
  },
  {
   "cell_type": "code",
   "execution_count": 5,
   "id": "65f37f6f",
   "metadata": {},
   "outputs": [],
   "source": [
    "# set up batch input\n",
    "\"\"\"\n",
    "分別上傳instruction1, instruction2, instruction3的batch_input\n",
    "\n",
    "custom_id: instruction\"1\"-task-0, instruction\"2\"-task-1, instruction\"3\"-task-2\n",
    "messages:[\n",
    "{\n",
    "    \"role\": \"system\", \"content\": instruction\"1\"\n",
    "},\n",
    "{\n",
    "    \"role\": \"user\", \"content\": f\"【影片標題】{item['video_title']}\\n【留言內容】{item['comment']}\"\n",
    "}\n",
    "]\n",
    "    \n",
    "\"\"\"\n",
    "from gpt_instructions import *\n",
    "\n",
    "tasks = []\n",
    "\n",
    "for index, item in enumerate(all_comments):\n",
    "    task = {\n",
    "        \"custom_id\": f\"instruction3-task-{index+86284}\",\n",
    "        \"method\": \"POST\",\n",
    "        \"url\": \"/v1/chat/completions\",\n",
    "        \"body\": {\n",
    "            \"model\": \"gpt-4.1-mini\",\n",
    "            \"response_format\": { \n",
    "                \"type\": \"json_object\"\n",
    "            },\n",
    "            \"messages\": [\n",
    "                {\n",
    "                    \"role\": \"system\", \"content\": instruction2\n",
    "                },\n",
    "                {\n",
    "                    \"role\": \"user\", \"content\":\n",
    "                        f\"【影片標題】{item['video_title']}\\n【留言內容】{item['comment']}\"\n",
    "                }\n",
    "            ],\n",
    "            \"temperature\": 0\n",
    "        }\n",
    "    }\n",
    "    tasks.append(task)"
   ]
  },
  {
   "cell_type": "code",
   "execution_count": 6,
   "id": "7fd12460",
   "metadata": {},
   "outputs": [],
   "source": [
    "# Creating the file\n",
    "file_name = \"batch_input/instruction2_ver3_comments.jsonl\"\n",
    "\n",
    "with open(file_name, 'w', encoding='utf-8') as file:\n",
    "    for obj in tasks:\n",
    "        file.write(json.dumps(obj, ensure_ascii=False) + '\\n')"
   ]
  },
  {
   "cell_type": "markdown",
   "id": "99e4e149",
   "metadata": {},
   "source": [
    "# 檢查當前所有Batch"
   ]
  },
  {
   "cell_type": "code",
   "execution_count": 7,
   "id": "281de2d8",
   "metadata": {},
   "outputs": [
    {
     "data": {
      "text/plain": [
       "SyncCursorPage[Batch](data=[Batch(id='batch_684bf6bbee048190819505b124197ea4', completion_window='24h', created_at=1749808827, endpoint='/v1/chat/completions', input_file_id='file-3nxJghe61tFku5zu4uYiNm', object='batch', status='in_progress', cancelled_at=None, cancelling_at=None, completed_at=None, error_file_id=None, errors=None, expired_at=None, expires_at=1749895227, failed_at=None, finalizing_at=None, in_progress_at=1749808849, metadata=None, output_file_id=None, request_counts=BatchRequestCounts(completed=0, failed=0, total=44249)), Batch(id='batch_684bf5a6e3c88190bb3852e848859c35', completion_window='24h', created_at=1749808550, endpoint='/v1/chat/completions', input_file_id='file-4FC84SMm2N6bXJXxDZuwYv', object='batch', status='in_progress', cancelled_at=None, cancelling_at=None, completed_at=None, error_file_id=None, errors=None, expired_at=None, expires_at=1749894950, failed_at=None, finalizing_at=None, in_progress_at=1749808562, metadata=None, output_file_id=None, request_counts=BatchRequestCounts(completed=0, failed=0, total=42035)), Batch(id='batch_684bf3d489e88190bce5a223854769fe', completion_window='24h', created_at=1749808084, endpoint='/v1/chat/completions', input_file_id='file-NseY25fx744Upm9RzYxNBt', object='batch', status='cancelling', cancelled_at=None, cancelling_at=1749808200, completed_at=None, error_file_id=None, errors=None, expired_at=None, expires_at=1749894484, failed_at=None, finalizing_at=None, in_progress_at=1749808095, metadata=None, output_file_id=None, request_counts=BatchRequestCounts(completed=220, failed=0, total=46696)), Batch(id='batch_684bf30244cc8190bfce0d1a6783a3ee', completion_window='24h', created_at=1749807874, endpoint='/v1/chat/completions', input_file_id='file-NseY25fx744Upm9RzYxNBt', object='batch', status='cancelling', cancelled_at=None, cancelling_at=1749808410, completed_at=None, error_file_id=None, errors=None, expired_at=None, expires_at=1749894274, failed_at=None, finalizing_at=None, in_progress_at=1749807884, metadata=None, output_file_id=None, request_counts=BatchRequestCounts(completed=1401, failed=0, total=46696)), Batch(id='batch_684bf015d7388190823e100c889fb8e8', completion_window='24h', created_at=1749807125, endpoint='/v1/chat/completions', input_file_id='file-S9aQx6CZyiD8FJiNyvn2tM', object='batch', status='in_progress', cancelled_at=None, cancelling_at=None, completed_at=None, error_file_id=None, errors=None, expired_at=None, expires_at=1749893525, failed_at=None, finalizing_at=None, in_progress_at=1749807150, metadata=None, output_file_id=None, request_counts=BatchRequestCounts(completed=3738, failed=0, total=46696)), Batch(id='batch_684bed4d5f70819095f2e5da49f2dd25', completion_window='24h', created_at=1749806413, endpoint='/v1/chat/completions', input_file_id='file-LdtzGWqPvnYgy6MYBn2iAq', object='batch', status='in_progress', cancelled_at=None, cancelling_at=None, completed_at=None, error_file_id=None, errors=None, expired_at=None, expires_at=1749892813, failed_at=None, finalizing_at=None, in_progress_at=1749806421, metadata=None, output_file_id=None, request_counts=BatchRequestCounts(completed=5743, failed=0, total=44249)), Batch(id='batch_684beb6dbf988190b1a7e5935d00565e', completion_window='24h', created_at=1749805933, endpoint='/v1/chat/completions', input_file_id='file-B7BymxV9asAz7fSAGFL4EH', object='batch', status='failed', cancelled_at=None, cancelling_at=None, completed_at=None, error_file_id=None, errors=Errors(data=[BatchError(code='maximum_requests_exceeded', line=None, message='This batch contains more than the 50,000 maximum number of requests. Please try again with a smaller batch.', param=None)], object='list'), expired_at=None, expires_at=1749892333, failed_at=1749805934, finalizing_at=None, in_progress_at=None, metadata=None, output_file_id=None, request_counts=BatchRequestCounts(completed=0, failed=0, total=0)), Batch(id='batch_684beaaf05208190a1f54df6e514a068', completion_window='24h', created_at=1749805743, endpoint='/v1/chat/completions', input_file_id='file-UR7kjVoyhohvdWqEAnG4Dk', object='batch', status='failed', cancelled_at=None, cancelling_at=None, completed_at=None, error_file_id=None, errors=Errors(data=[BatchError(code='maximum_requests_exceeded', line=None, message='This batch contains more than the 50,000 maximum number of requests. Please try again with a smaller batch.', param=None)], object='list'), expired_at=None, expires_at=1749892143, failed_at=1749805746, finalizing_at=None, in_progress_at=None, metadata=None, output_file_id=None, request_counts=BatchRequestCounts(completed=0, failed=0, total=0)), Batch(id='batch_684be834800481909e086701c7a3ebab', completion_window='24h', created_at=1749805108, endpoint='/v1/chat/completions', input_file_id='file-FATUM8Pd55BuaDRHKRrV9J', object='batch', status='in_progress', cancelled_at=None, cancelling_at=None, completed_at=None, error_file_id=None, errors=None, expired_at=None, expires_at=1749891508, failed_at=None, finalizing_at=None, in_progress_at=1749805116, metadata=None, output_file_id=None, request_counts=BatchRequestCounts(completed=8469, failed=0, total=42035)), Batch(id='batch_684be5201b108190941db9ec2e3377d8', completion_window='24h', created_at=1749804320, endpoint='/v1/chat/completions', input_file_id='file-9Sp6EYvkrDyKpe3WRXsnb6', object='batch', status='failed', cancelled_at=None, cancelling_at=None, completed_at=None, error_file_id=None, errors=Errors(data=[BatchError(code='maximum_requests_exceeded', line=None, message='This batch contains more than the 50,000 maximum number of requests. Please try again with a smaller batch.', param=None)], object='list'), expired_at=None, expires_at=1749890720, failed_at=1749804322, finalizing_at=None, in_progress_at=None, metadata=None, output_file_id=None, request_counts=BatchRequestCounts(completed=0, failed=0, total=0)), Batch(id='batch_684ae93fe98c8190b9da43abc08ca485', completion_window='24h', created_at=1749739839, endpoint='/v1/chat/completions', input_file_id='file-C49vm8dPccpj9hDTep8ai7', object='batch', status='completed', cancelled_at=None, cancelling_at=None, completed_at=1749742196, error_file_id=None, errors=None, expired_at=None, expires_at=1749826239, failed_at=None, finalizing_at=1749741054, in_progress_at=1749739872, metadata=None, output_file_id='file-GtM9TrQt1x2LgpCRa8ymQH', request_counts=BatchRequestCounts(completed=6498, failed=0, total=6498)), Batch(id='batch_684ae557d5cc8190914795a7c9c6a825', completion_window='24h', created_at=1749738839, endpoint='/v1/chat/completions', input_file_id='file-CcRtv9dM9NEzAUAdNSbpAr', object='batch', status='cancelled', cancelled_at=1749740633, cancelling_at=1749739405, completed_at=None, error_file_id='file-3GeGdfFYRgS5hbqUFW2TYh', errors=None, expired_at=None, expires_at=1749825239, failed_at=None, finalizing_at=None, in_progress_at=1749738901, metadata=None, output_file_id=None, request_counts=BatchRequestCounts(completed=0, failed=3162, total=6498)), Batch(id='batch_684adf116154819097882e423b1f9ee3', completion_window='24h', created_at=1749737233, endpoint='/v1/chat/completions', input_file_id='file-WMsn2oim4nkMHgqroRtose', object='batch', status='failed', cancelled_at=None, cancelling_at=None, completed_at=None, error_file_id=None, errors=Errors(data=[BatchError(code='missing_required_parameter', line=1, message=\"Missing required parameter: 'custom_id'.\", param='custom_id'), BatchError(code='missing_required_parameter', line=2, message=\"Missing required parameter: 'custom_id'.\", param='custom_id'), BatchError(code='missing_required_parameter', line=3, message=\"Missing required parameter: 'custom_id'.\", param='custom_id'), BatchError(code='missing_required_parameter', line=4, message=\"Missing required parameter: 'custom_id'.\", param='custom_id'), BatchError(code='missing_required_parameter', line=5, message=\"Missing required parameter: 'custom_id'.\", param='custom_id'), BatchError(code='missing_required_parameter', line=6, message=\"Missing required parameter: 'custom_id'.\", param='custom_id'), BatchError(code='missing_required_parameter', line=7, message=\"Missing required parameter: 'custom_id'.\", param='custom_id'), BatchError(code='missing_required_parameter', line=8, message=\"Missing required parameter: 'custom_id'.\", param='custom_id'), BatchError(code='missing_required_parameter', line=9, message=\"Missing required parameter: 'custom_id'.\", param='custom_id'), BatchError(code='missing_required_parameter', line=10, message=\"Missing required parameter: 'custom_id'.\", param='custom_id'), BatchError(code='missing_required_parameter', line=11, message=\"Missing required parameter: 'custom_id'.\", param='custom_id'), BatchError(code='missing_required_parameter', line=12, message=\"Missing required parameter: 'custom_id'.\", param='custom_id'), BatchError(code='missing_required_parameter', line=13, message=\"Missing required parameter: 'custom_id'.\", param='custom_id'), BatchError(code='missing_required_parameter', line=14, message=\"Missing required parameter: 'custom_id'.\", param='custom_id'), BatchError(code='missing_required_parameter', line=15, message=\"Missing required parameter: 'custom_id'.\", param='custom_id'), BatchError(code='missing_required_parameter', line=16, message=\"Missing required parameter: 'custom_id'.\", param='custom_id'), BatchError(code='missing_required_parameter', line=17, message=\"Missing required parameter: 'custom_id'.\", param='custom_id'), BatchError(code='missing_required_parameter', line=18, message=\"Missing required parameter: 'custom_id'.\", param='custom_id'), BatchError(code='missing_required_parameter', line=19, message=\"Missing required parameter: 'custom_id'.\", param='custom_id'), BatchError(code='missing_required_parameter', line=20, message=\"Missing required parameter: 'custom_id'.\", param='custom_id')], object='list'), expired_at=None, expires_at=1749823633, failed_at=1749737234, finalizing_at=None, in_progress_at=None, metadata={'version': 'test version 20250612', 'video_id': '7, 23, 33'}, output_file_id=None, request_counts=BatchRequestCounts(completed=0, failed=0, total=0))], has_more=False, object='list', first_id='batch_684bf6bbee048190819505b124197ea4', last_id='batch_684adf116154819097882e423b1f9ee3')"
      ]
     },
     "execution_count": 7,
     "metadata": {},
     "output_type": "execute_result"
    }
   ],
   "source": [
    "# 檢查所有的batch jobs\n",
    "client.batches.list()"
   ]
  },
  {
   "cell_type": "markdown",
   "id": "ee9227e3",
   "metadata": {},
   "source": [
    "# Upload batch input (jsonl)"
   ]
  },
  {
   "cell_type": "code",
   "execution_count": 8,
   "id": "cd2daa5c",
   "metadata": {},
   "outputs": [],
   "source": [
    "batch_file = client.files.create(\n",
    "  file=open(file_name, \"rb\"),\n",
    "  purpose=\"batch\"\n",
    ")"
   ]
  },
  {
   "cell_type": "code",
   "execution_count": 9,
   "id": "5de73a2b",
   "metadata": {},
   "outputs": [
    {
     "name": "stdout",
     "output_type": "stream",
     "text": [
      "FileObject(id='file-DW9i831EMTas99HRpaatgs', bytes=79142333, created_at=1749808952, filename='instruction2_ver3_comments.jsonl', object='file', purpose='batch', status='processed', expires_at=None, status_details=None)\n"
     ]
    }
   ],
   "source": [
    "print(batch_file)"
   ]
  },
  {
   "cell_type": "markdown",
   "id": "eb50a3d1",
   "metadata": {},
   "source": [
    "# Create Batch"
   ]
  },
  {
   "cell_type": "code",
   "execution_count": 10,
   "id": "02459db0",
   "metadata": {},
   "outputs": [],
   "source": [
    "batch_job = client.batches.create(\n",
    "  input_file_id=batch_file.id,\n",
    "  endpoint=\"/v1/chat/completions\",\n",
    "  completion_window=\"24h\"\n",
    ")"
   ]
  },
  {
   "cell_type": "markdown",
   "id": "1ada048e",
   "metadata": {},
   "source": [
    "# Check Batch Status"
   ]
  },
  {
   "cell_type": "code",
   "execution_count": 11,
   "id": "e387a761",
   "metadata": {},
   "outputs": [
    {
     "name": "stdout",
     "output_type": "stream",
     "text": [
      "Batch(id='batch_684bf76e1a888190b5785faaffda5a0a', completion_window='24h', created_at=1749809006, endpoint='/v1/chat/completions', input_file_id='file-DW9i831EMTas99HRpaatgs', object='batch', status='validating', cancelled_at=None, cancelling_at=None, completed_at=None, error_file_id=None, errors=None, expired_at=None, expires_at=1749895406, failed_at=None, finalizing_at=None, in_progress_at=None, metadata=None, output_file_id=None, request_counts=BatchRequestCounts(completed=0, failed=0, total=0))\n"
     ]
    }
   ],
   "source": [
    "batch = client.batches.retrieve(batch_job.id)\n",
    "print(batch)"
   ]
  },
  {
   "cell_type": "markdown",
   "id": "7c80a546",
   "metadata": {},
   "source": [
    "### Check Batch Progress"
   ]
  },
  {
   "cell_type": "code",
   "execution_count": 12,
   "id": "3b238690",
   "metadata": {},
   "outputs": [
    {
     "name": "stdout",
     "output_type": "stream",
     "text": [
      "批次ID: batch_684bf76e1a888190b5785faaffda5a0a\n",
      "批次狀態: in_progress\n",
      "已完成: 0\n",
      "失敗: 0\n",
      "總計: 46696\n"
     ]
    }
   ],
   "source": [
    "import time\n",
    "\n",
    "def check_batch_status(batch_id):\n",
    "    \"\"\"檢查批次處理狀態\"\"\"\n",
    "    batch = client.batches.retrieve(batch_id)\n",
    "    print(f\"批次狀態: {batch.status}\")\n",
    "    print(f\"已完成: {batch.request_counts.completed}\")\n",
    "    print(f\"失敗: {batch.request_counts.failed}\")\n",
    "    print(f\"總計: {batch.request_counts.total}\")\n",
    "    return batch\n",
    "\n",
    "# 定期檢查狀態\n",
    "# batch_id = \"batch_684bf30244cc8190bfce0d1a6783a3ee\"\n",
    "\n",
    "batch_id = batch_job.id\n",
    "print(f\"批次ID: {batch_id}\")\n",
    "\n",
    "current_batch = check_batch_status(batch_id)"
   ]
  },
  {
   "cell_type": "markdown",
   "id": "d17d2a74",
   "metadata": {},
   "source": [
    "# Cancel Batch"
   ]
  },
  {
   "cell_type": "code",
   "execution_count": 8,
   "id": "456ed27c",
   "metadata": {},
   "outputs": [
    {
     "data": {
      "text/plain": [
       "Batch(id='batch_684bf30244cc8190bfce0d1a6783a3ee', completion_window='24h', created_at=1749807874, endpoint='/v1/chat/completions', input_file_id='file-NseY25fx744Upm9RzYxNBt', object='batch', status='cancelling', cancelled_at=None, cancelling_at=1749808410, completed_at=None, error_file_id=None, errors=None, expired_at=None, expires_at=1749894274, failed_at=None, finalizing_at=None, in_progress_at=1749807884, metadata=None, output_file_id=None, request_counts=BatchRequestCounts(completed=1401, failed=0, total=46696))"
      ]
     },
     "execution_count": 8,
     "metadata": {},
     "output_type": "execute_result"
    }
   ],
   "source": [
    "client.batches.cancel(\"batch_684bf30244cc8190bfce0d1a6783a3ee\")"
   ]
  },
  {
   "cell_type": "markdown",
   "id": "cc80f4e0",
   "metadata": {},
   "source": [
    "# View ourput result"
   ]
  },
  {
   "cell_type": "code",
   "execution_count": null,
   "id": "40a47fa7",
   "metadata": {},
   "outputs": [],
   "source": [
    "batch = client.batches.retrieve(batch_job.id)\n",
    "print(batch)"
   ]
  },
  {
   "cell_type": "code",
   "execution_count": 115,
   "id": "01a0ca2e",
   "metadata": {},
   "outputs": [
    {
     "name": "stdout",
     "output_type": "stream",
     "text": [
      "批次已完成，開始下載結果...\n",
      "結果已保存到 batch_results.jsonl\n",
      "總共收到 6498 個結果\n",
      "\n",
      "=== 結果 1 ===\n",
      "Custom ID: task-0\n",
      "GPT 回應: {\n",
      "    \"tag1\": false,\n",
      "    \"reason1\": \"留言內容為一句話，雖然簡短但有指涉特定對象，非完全無意義。\",\n",
      "    \"tag2\": false,\n",
      "    \"reason2\": \"留言雖然簡短，但並非無實質內容或無法提供有價值資訊，可能是評論或觀點。\",\n",
      "    \"tag3\": true,\n",
      "    \"reason3\": \"留言少於5個字，符合無意義留言指標1。\"\n",
      "}...\n",
      "\n",
      "=== 結果 2 ===\n",
      "Custom ID: task-1\n",
      "GPT 回應: {\n",
      "    \"tag1\": false,\n",
      "    \"reason1\": \"留言內容有具體評論，表達對節目變化的看法，具備實質內容。\",\n",
      "    \"tag2\": false,\n",
      "    \"reason2\": \"留言提供了對節目內容的觀點，屬於有價值的討論，不屬於無意義留言。\",\n",
      "    \"tag3\": false,\n",
      "    \"reason3\": \"留言字數超過5字，內容有意義，且無重複或強烈情緒性用語...\n",
      "\n",
      "=== 結果 3 ===\n",
      "Custom ID: task-2\n",
      "GPT 回應: {\n",
      "    \"tag1\": false,\n",
      "    \"reason1\": \"留言內容有具體政治議題討論，非無意義文字。\",\n",
      "    \"tag2\": false,\n",
      "    \"reason2\": \"留言提供了關於柯文哲及政治情勢的看法，具備實質內容與討論價值。\",\n",
      "    \"tag3\": false,\n",
      "    \"reason3\": \"留言字數超過5字，內容有意義，無重複，情緒性不強，符合有意義留言標準。...\n"
     ]
    }
   ],
   "source": [
    "# 當批次狀態為 'completed' 時，下載結果\n",
    "if batch.status == 'completed' and batch.output_file_id:\n",
    "    print(\"批次已完成，開始下載結果...\")\n",
    "    \n",
    "    # 下載輸出文件\n",
    "    file_response = client.files.content(batch.output_file_id)\n",
    "    output_content = file_response.content.decode('utf-8')\n",
    "    \n",
    "    # 保存結果到本地文件\n",
    "    with open('batch_results.jsonl', 'w', encoding='utf-8') as f:\n",
    "        f.write(output_content)\n",
    "    \n",
    "    print(\"結果已保存到 batch_results.jsonl\")\n",
    "    \n",
    "    # 查看前幾個結果\n",
    "    \n",
    "    results = []\n",
    "    for line in output_content.strip().split('\\n'):\n",
    "        if line:\n",
    "            result = json.loads(line)\n",
    "            results.append(result)\n",
    "    \n",
    "    print(f\"總共收到 {len(results)} 個結果\")\n",
    "    \n",
    "    # 顯示前3個結果\n",
    "    for i, result in enumerate(results[:3]):\n",
    "        print(f\"\\n=== 結果 {i+1} ===\")\n",
    "        print(f\"Custom ID: {result['custom_id']}\")\n",
    "        if result.get('response'):\n",
    "            content = result['response']['body']['choices'][0]['message']['content']\n",
    "            print(f\"GPT 回應: {content[:200]}...\")  # 只顯示前200字符\n",
    "        elif result.get('error'):\n",
    "            print(f\"錯誤: {result['error']}\")\n",
    "\n",
    "else:\n",
    "    print(f\"批次尚未完成，當前狀態: {batch.status}\")\n",
    "    if batch.status == 'in_progress':\n",
    "        progress = (batch.request_counts.completed / batch.request_counts.total) * 100\n",
    "        print(f\"進度: {progress:.1f}%\")"
   ]
  },
  {
   "cell_type": "code",
   "execution_count": null,
   "id": "20caf0af",
   "metadata": {},
   "outputs": [
    {
     "name": "stdout",
     "output_type": "stream",
     "text": [
      "處理完成！共 6498 筆結果\n",
      "成功: 6498\n",
      "錯誤: 0\n",
      "\n",
      "=== 前5筆結果預覽 ===\n",
      "\n",
      "第 1 筆:\n",
      "留言: 太有活了贵司...\n",
      "tag1: False, reason1: 留言內容為一句話，雖然簡短但有指涉特定對象，非完全無意義。...\n",
      "tag2: False, reason2: 留言雖然簡短，但並非無實質內容或無法提供有價值資訊，可能是評...\n",
      "tag3: True, reason3: 留言少於5個字，符合無意義留言指標1。...\n",
      "\n",
      "第 2 筆:\n",
      "留言: 我的天这段影片的评论区是发生了什么...\n",
      "tag1: False, reason1: 留言內容有具體評論，表達對節目變化的看法，具備實質內容。...\n",
      "tag2: False, reason2: 留言提供了對節目內容的觀點，屬於有價值的討論，不屬於無意義留...\n",
      "tag3: False, reason3: 留言字數超過5字，內容有意義，且無重複或強烈情緒性用語，不符...\n",
      "\n",
      "第 3 筆:\n",
      "留言: 原来这就是之后节目里提到的被炎上的事件之一吗...\n",
      "tag1: False, reason1: 留言內容有具體政治議題討論，非無意義文字。...\n",
      "tag2: False, reason2: 留言提供了關於柯文哲及政治情勢的看法，具備實質內容與討論價值...\n",
      "tag3: False, reason3: 留言字數超過5字，內容有意義，無重複，情緒性不強，符合有意義...\n",
      "\n",
      "第 4 筆:\n",
      "留言: 突然發現低卡的夥伴們ᶘ ᵒᴥᵒᶅ...\n",
      "tag1: False, reason1: 留言內容有明確表達對節目的喜愛及期待，具備實質內容。...\n",
      "tag2: False, reason2: 留言提供了對節目內容的回顧與期待，屬於有價值的討論。...\n",
      "tag3: False, reason3: 留言字數超過5字，內容有意義，且無重複或強烈情緒性語言。...\n",
      "\n",
      "第 5 筆:\n",
      "留言: 怎麼選舉可以有這麼多好笑的內容...\n",
      "tag1: True, reason1: 留言內容簡短且無實質討論內容，僅為索取個人社交媒體資訊。...\n",
      "tag2: True, reason2: 留言無法提供有價值的資訊或討論，屬於無意義留言範例。...\n",
      "tag3: True, reason3: 留言少於5個字，且內容無意義，符合無意義留言指標。...\n"
     ]
    }
   ],
   "source": [
    "# 修改版本：展開 GPT 回應為獨立欄位\n",
    "import os\n",
    "\n",
    "def process_batch_results():\n",
    "    if not os.path.exists('batch_results.jsonl'):\n",
    "        print(\"結果文件不存在，請先下載結果\")\n",
    "        return\n",
    "    \n",
    "    results_data = []\n",
    "    \n",
    "    with open('batch_results.jsonl', 'r', encoding='utf-8') as f:\n",
    "        for line in f:\n",
    "            if line.strip():\n",
    "                result = json.loads(line)\n",
    "                \n",
    "                # 提取有用信息\n",
    "                custom_id = result['custom_id']\n",
    "                task_index = int(custom_id.replace('task-', ''))\n",
    "                \n",
    "                if result.get('response'):\n",
    "                    gpt_response = result['response']['body']['choices'][0]['message']['content']\n",
    "                    \n",
    "                    # 嘗試解析 JSON 回應\n",
    "                    try:\n",
    "                        gpt_data = json.loads(gpt_response)\n",
    "                        \n",
    "                        # 基本資料\n",
    "                        row_data = {\n",
    "                            'task_index': task_index,\n",
    "                            'video_title': all_comments[task_index]['video_title'],\n",
    "                            'comment': all_comments[task_index]['comment'],\n",
    "                            'status': 'success'\n",
    "                        }\n",
    "                        \n",
    "                        # 展開 GPT 回應為獨立欄位\n",
    "                        row_data['tag1'] = gpt_data.get('tag1', None)\n",
    "                        row_data['reason1'] = gpt_data.get('reason1', '')\n",
    "                        row_data['tag2'] = gpt_data.get('tag2', None)\n",
    "                        row_data['reason2'] = gpt_data.get('reason2', '')\n",
    "                        row_data['tag3'] = gpt_data.get('tag3', None)\n",
    "                        row_data['reason3'] = gpt_data.get('reason3', '')\n",
    "                        \n",
    "                        results_data.append(row_data)\n",
    "                        \n",
    "                    except json.JSONDecodeError:\n",
    "                        results_data.append({\n",
    "                            'task_index': task_index,\n",
    "                            'video_title': all_comments[task_index]['video_title'],\n",
    "                            'comment': all_comments[task_index]['comment'],\n",
    "                            'gpt_response_raw': gpt_response,\n",
    "                            'status': 'json_error',\n",
    "                            'tag1': None, 'reason1': '',\n",
    "                            'tag2': None, 'reason2': '',\n",
    "                            'tag3': None, 'reason3': ''\n",
    "                        })\n",
    "                elif result.get('error'):\n",
    "                    results_data.append({\n",
    "                        'task_index': task_index,\n",
    "                        'video_title': all_comments[task_index]['video_title'],\n",
    "                        'comment': all_comments[task_index]['comment'],\n",
    "                        'error': result['error'],\n",
    "                        'status': 'error',\n",
    "                        'tag1': None, 'reason1': '',\n",
    "                        'tag2': None, 'reason2': '',\n",
    "                        'tag3': None, 'reason3': ''\n",
    "                    })\n",
    "    \n",
    "    # 轉換為 DataFrame\n",
    "    results_df = pd.DataFrame(results_data)\n",
    "    \n",
    "    # 重新排序欄位\n",
    "    column_order = [\n",
    "        'task_index', 'video_title', 'comment',\n",
    "        'tag1', 'reason1', 'tag2', 'reason2', 'tag3', 'reason3',\n",
    "        'status'\n",
    "    ]\n",
    "    \n",
    "    # 只選擇存在的欄位\n",
    "    existing_columns = [col for col in column_order if col in results_df.columns]\n",
    "    results_df = results_df[existing_columns]\n",
    "    \n",
    "    # 保存到 CSV\n",
    "    results_df.to_csv('batch_analysis_results.csv', index=False, encoding='utf-8')\n",
    "    \n",
    "    print(f\"處理完成！共 {len(results_df)} 筆結果\")\n",
    "    print(f\"成功: {len(results_df[results_df['status'] == 'success'])}\")\n",
    "    print(f\"錯誤: {len(results_df[results_df['status'] != 'success'])}\")\n",
    "    \n",
    "    # 顯示前幾筆結果\n",
    "    print(\"\\n=== 前5筆結果預覽 ===\")\n",
    "    for idx, row in results_df.head().iterrows():\n",
    "        print(f\"\\n第 {idx+1} 筆:\")\n",
    "        print(f\"留言: {row['comment'][:50]}...\")\n",
    "        print(f\"tag1: {row['tag1']}, reason1: {row['reason1'][:30]}...\")\n",
    "        print(f\"tag2: {row['tag2']}, reason2: {row['reason2'][:30]}...\")\n",
    "        print(f\"tag3: {row['tag3']}, reason3: {row['reason3'][:30]}...\")\n",
    "    \n",
    "    return results_df\n",
    "\n",
    "# 當批次完成後執行\n",
    "df_results = process_batch_results()"
   ]
  }
 ],
 "metadata": {
  "kernelspec": {
   "display_name": "Python 3",
   "language": "python",
   "name": "python3"
  },
  "language_info": {
   "codemirror_mode": {
    "name": "ipython",
    "version": 3
   },
   "file_extension": ".py",
   "mimetype": "text/x-python",
   "name": "python",
   "nbconvert_exporter": "python",
   "pygments_lexer": "ipython3",
   "version": "3.9.22"
  }
 },
 "nbformat": 4,
 "nbformat_minor": 5
}
